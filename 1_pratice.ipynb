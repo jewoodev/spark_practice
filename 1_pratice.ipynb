{
 "cells": [
  {
   "cell_type": "code",
   "execution_count": 1,
   "outputs": [
    {
     "name": "stdout",
     "output_type": "stream",
     "text": [
      "3.7.4 (tags/v3.7.4:e09359112e, Jul  8 2019, 20:34:20) [MSC v.1916 64 bit (AMD64)]\n"
     ]
    },
    {
     "ename": "Py4JError",
     "evalue": "org.apache.spark.api.python.PythonUtils.isEncryptionEnabled does not exist in the JVM",
     "output_type": "error",
     "traceback": [
      "\u001B[1;31m---------------------------------------------------------------------------\u001B[0m",
      "\u001B[1;31mPy4JError\u001B[0m                                 Traceback (most recent call last)",
      "\u001B[1;32m~\\AppData\\Local\\Temp\\ipykernel_15048\\1437619482.py\u001B[0m in \u001B[0;36m<module>\u001B[1;34m\u001B[0m\n\u001B[0;32m      8\u001B[0m \u001B[0mprint\u001B[0m\u001B[1;33m(\u001B[0m\u001B[0msys\u001B[0m\u001B[1;33m.\u001B[0m\u001B[0mversion\u001B[0m\u001B[1;33m)\u001B[0m\u001B[1;33m\u001B[0m\u001B[1;33m\u001B[0m\u001B[0m\n\u001B[0;32m      9\u001B[0m \u001B[0mos\u001B[0m\u001B[1;33m.\u001B[0m\u001B[0menviron\u001B[0m\u001B[1;33m[\u001B[0m\u001B[1;34m'SPARK_HOME'\u001B[0m\u001B[1;33m]\u001B[0m \u001B[1;33m=\u001B[0m \u001B[1;34m\"C:\\develop_dir\\spark_practice\\spark-2.4.8-bin-hadoop2.7\"\u001B[0m\u001B[1;33m\u001B[0m\u001B[1;33m\u001B[0m\u001B[0m\n\u001B[1;32m---> 10\u001B[1;33m \u001B[0msc\u001B[0m \u001B[1;33m=\u001B[0m \u001B[0mpyspark\u001B[0m\u001B[1;33m.\u001B[0m\u001B[0mSparkContext\u001B[0m\u001B[1;33m(\u001B[0m\u001B[0mappName\u001B[0m\u001B[1;33m=\u001B[0m\u001B[1;34m\"SparkExample\"\u001B[0m\u001B[1;33m)\u001B[0m\u001B[1;33m\u001B[0m\u001B[1;33m\u001B[0m\u001B[0m\n\u001B[0m\u001B[0;32m     11\u001B[0m \u001B[1;33m\u001B[0m\u001B[0m\n\u001B[0;32m     12\u001B[0m \u001B[0mlist1\u001B[0m \u001B[1;33m=\u001B[0m \u001B[1;33m[\u001B[0m\u001B[1;36m1\u001B[0m\u001B[1;33m,\u001B[0m \u001B[1;36m2\u001B[0m\u001B[1;33m,\u001B[0m \u001B[1;36m3\u001B[0m\u001B[1;33m,\u001B[0m \u001B[1;36m4\u001B[0m\u001B[1;33m]\u001B[0m  \u001B[1;31m# python list type\u001B[0m\u001B[1;33m\u001B[0m\u001B[1;33m\u001B[0m\u001B[0m\n",
      "\u001B[1;32m~\\.virtualenvs\\spark_practice-Ao7YaiK3\\lib\\site-packages\\pyspark\\context.py\u001B[0m in \u001B[0;36m__init__\u001B[1;34m(self, master, appName, sparkHome, pyFiles, environment, batchSize, serializer, conf, gateway, jsc, profiler_cls, udf_profiler_cls, memory_profiler_cls)\u001B[0m\n\u001B[0;32m    210\u001B[0m                 \u001B[0mprofiler_cls\u001B[0m\u001B[1;33m,\u001B[0m\u001B[1;33m\u001B[0m\u001B[1;33m\u001B[0m\u001B[0m\n\u001B[0;32m    211\u001B[0m                 \u001B[0mudf_profiler_cls\u001B[0m\u001B[1;33m,\u001B[0m\u001B[1;33m\u001B[0m\u001B[1;33m\u001B[0m\u001B[0m\n\u001B[1;32m--> 212\u001B[1;33m                 \u001B[0mmemory_profiler_cls\u001B[0m\u001B[1;33m,\u001B[0m\u001B[1;33m\u001B[0m\u001B[1;33m\u001B[0m\u001B[0m\n\u001B[0m\u001B[0;32m    213\u001B[0m             )\n\u001B[0;32m    214\u001B[0m         \u001B[1;32mexcept\u001B[0m \u001B[0mBaseException\u001B[0m\u001B[1;33m:\u001B[0m\u001B[1;33m\u001B[0m\u001B[1;33m\u001B[0m\u001B[0m\n",
      "\u001B[1;32m~\\.virtualenvs\\spark_practice-Ao7YaiK3\\lib\\site-packages\\pyspark\\context.py\u001B[0m in \u001B[0;36m_do_init\u001B[1;34m(self, master, appName, sparkHome, pyFiles, environment, batchSize, serializer, conf, jsc, profiler_cls, udf_profiler_cls, memory_profiler_cls)\u001B[0m\n\u001B[0;32m    303\u001B[0m         \u001B[1;31m# data via a socket.\u001B[0m\u001B[1;33m\u001B[0m\u001B[1;33m\u001B[0m\u001B[1;33m\u001B[0m\u001B[0m\n\u001B[0;32m    304\u001B[0m         \u001B[1;31m# scala's mangled names w/ $ in them require special treatment.\u001B[0m\u001B[1;33m\u001B[0m\u001B[1;33m\u001B[0m\u001B[1;33m\u001B[0m\u001B[0m\n\u001B[1;32m--> 305\u001B[1;33m         \u001B[0mself\u001B[0m\u001B[1;33m.\u001B[0m\u001B[0m_encryption_enabled\u001B[0m \u001B[1;33m=\u001B[0m \u001B[0mself\u001B[0m\u001B[1;33m.\u001B[0m\u001B[0m_jvm\u001B[0m\u001B[1;33m.\u001B[0m\u001B[0mPythonUtils\u001B[0m\u001B[1;33m.\u001B[0m\u001B[0misEncryptionEnabled\u001B[0m\u001B[1;33m(\u001B[0m\u001B[0mself\u001B[0m\u001B[1;33m.\u001B[0m\u001B[0m_jsc\u001B[0m\u001B[1;33m)\u001B[0m\u001B[1;33m\u001B[0m\u001B[1;33m\u001B[0m\u001B[0m\n\u001B[0m\u001B[0;32m    306\u001B[0m         os.environ[\"SPARK_AUTH_SOCKET_TIMEOUT\"] = str(\n\u001B[0;32m    307\u001B[0m             \u001B[0mself\u001B[0m\u001B[1;33m.\u001B[0m\u001B[0m_jvm\u001B[0m\u001B[1;33m.\u001B[0m\u001B[0mPythonUtils\u001B[0m\u001B[1;33m.\u001B[0m\u001B[0mgetPythonAuthSocketTimeout\u001B[0m\u001B[1;33m(\u001B[0m\u001B[0mself\u001B[0m\u001B[1;33m.\u001B[0m\u001B[0m_jsc\u001B[0m\u001B[1;33m)\u001B[0m\u001B[1;33m\u001B[0m\u001B[1;33m\u001B[0m\u001B[0m\n",
      "\u001B[1;32m~\\.virtualenvs\\spark_practice-Ao7YaiK3\\lib\\site-packages\\py4j\\java_gateway.py\u001B[0m in \u001B[0;36m__getattr__\u001B[1;34m(self, name)\u001B[0m\n\u001B[0;32m   1548\u001B[0m         \u001B[1;32melse\u001B[0m\u001B[1;33m:\u001B[0m\u001B[1;33m\u001B[0m\u001B[1;33m\u001B[0m\u001B[0m\n\u001B[0;32m   1549\u001B[0m             raise Py4JError(\n\u001B[1;32m-> 1550\u001B[1;33m                 \"{0}.{1} does not exist in the JVM\".format(self._fqn, name))\n\u001B[0m\u001B[0;32m   1551\u001B[0m \u001B[1;33m\u001B[0m\u001B[0m\n\u001B[0;32m   1552\u001B[0m     \u001B[1;32mdef\u001B[0m \u001B[0m_get_args\u001B[0m\u001B[1;33m(\u001B[0m\u001B[0mself\u001B[0m\u001B[1;33m,\u001B[0m \u001B[0margs\u001B[0m\u001B[1;33m)\u001B[0m\u001B[1;33m:\u001B[0m\u001B[1;33m\u001B[0m\u001B[1;33m\u001B[0m\u001B[0m\n",
      "\u001B[1;31mPy4JError\u001B[0m: org.apache.spark.api.python.PythonUtils.isEncryptionEnabled does not exist in the JVM"
     ]
    }
   ],
   "source": [
    "# 1_setting.py\n",
    "import sys\n",
    "import os\n",
    "import findspark\n",
    "findspark.init()\n",
    "import pyspark\n",
    "\n",
    "print(sys.version)\n",
    "os.environ['SPARK_HOME'] = \"C:\\develop_dir\\spark_practice\\spark-2.4.8-bin-hadoop2.7\"\n",
    "sc = pyspark.SparkContext(appName=\"SparkExample\")\n",
    "\n",
    "list1 = [1, 2, 3, 4]  # python list type\n",
    "rdd = sc.parallelize(list1)\n",
    "rdd.collect()"
   ],
   "metadata": {
    "collapsed": false,
    "ExecuteTime": {
     "end_time": "2023-05-08T11:50:43.277012Z",
     "start_time": "2023-05-08T11:50:38.654895200Z"
    }
   }
  },
  {
   "cell_type": "markdown",
   "source": [
    "# Untitled"
   ],
   "metadata": {
    "collapsed": false
   }
  },
  {
   "cell_type": "code",
   "execution_count": null,
   "outputs": [],
   "source": [
    "import sys\n",
    "import os\n",
    "import findspark\n",
    "os.environ['SPARK_HOME'] = \"/home/ubuntu/venv3.7/spark-2.4.8-bin-hadoop2.7\"\n",
    "findspark.init()\n",
    "import pyspark\n",
    "\n",
    "print(sys.version)\n",
    "sc = pyspark.SparkContext(appName=\"SparkExample\")\n",
    "\n",
    "list1 = [1, 2, 3, 4]  # python list type\n",
    "rdd = sc.parallelize(list1)\n",
    "rdd.collect()"
   ],
   "metadata": {
    "collapsed": false
   }
  },
  {
   "cell_type": "code",
   "execution_count": null,
   "outputs": [],
   "source": [
    "rdd1 = sc.parallelize(range(0, 100))\n",
    "rdd1.saveAsTextFile('range_output')"
   ],
   "metadata": {
    "collapsed": false
   }
  },
  {
   "cell_type": "code",
   "execution_count": null,
   "outputs": [],
   "source": [
    "rdd1.collect()"
   ],
   "metadata": {
    "collapsed": false
   }
  },
  {
   "cell_type": "code",
   "execution_count": null,
   "outputs": [],
   "source": [
    "wordsList = [['cat', 'cat'], ['ele'], ['cat', 'ele']]\n",
    "rdd2 = sc.parallelize(wordsList)\n",
    "output = rdd2.flatMap(lambda line: [x for x in line]).collect()\n",
    "print(output)"
   ],
   "metadata": {
    "collapsed": false
   }
  },
  {
   "cell_type": "code",
   "execution_count": null,
   "outputs": [],
   "source": [
    "def remove_cat(animal):\n",
    "    return(animal != 'cat')\n",
    "\n",
    "wordsList = [['cat', 'cat'], ['ele'], ['cat', 'ele']]\n",
    "rdd = sc.parallelize(wordsList)\n",
    "rdd.flatMap(lambda line: [x for x in line]).filter(remove_cat).collect()"
   ],
   "metadata": {
    "collapsed": false
   }
  },
  {
   "cell_type": "markdown",
   "source": [
    "# Assignment 1\n",
    "## PySpark wordcount\n",
    "```python\n",
    "wordList = ['cat', 'ele', 'rat', 'rat', 'cat']\n",
    "wordsRDD = sc.parallelize(wordList)\n",
    "....\n",
    "```\n",
    "## Final result\n",
    "[('rat', 2), ('ele', 1), ('cat', 2)]"
   ],
   "metadata": {
    "collapsed": false
   }
  },
  {
   "cell_type": "code",
   "execution_count": null,
   "metadata": {
    "collapsed": true
   },
   "outputs": [],
   "source": [
    "# Assignment 1\n",
    "wordList = ['cat', 'ele', 'rat', 'rat', 'cat']\n",
    "wordsRDD = sc.parallelize(wordList)\n",
    "\n",
    "# groupByKey version vs reduceByKey()\n",
    "outputReduce = wordsRDD.map(lambda x: (x, 1)).reduceByKey(lambda x,y : x+y)\n",
    "outputReduce.collect()"
   ]
  },
  {
   "cell_type": "markdown",
   "source": [
    "# Assignment 2\n",
    "## Input\n",
    "[(0, \"Alex\"), (1, \"Bert\"), (2, \"Curt\"), (3, \"Don\")]\n",
    "[(0, \"writing\"), (0, \"gym\"), (1, \"swimming\")]\n",
    "\n",
    "## Output\n",
    "['Alex loves writing', 'Alex loves gym', 'Bert loves swimming']"
   ],
   "metadata": {
    "collapsed": false
   }
  },
  {
   "cell_type": "code",
   "execution_count": null,
   "outputs": [],
   "source": [
    "user1 = [(0, \"Alex\"), (1, \"Bert\"), (2, \"Curt\"), (3, \"Don\")]\n",
    "subs1 = [(0, \"writing\"), (0, \"gym\"), (1, \"swimming\")]\n",
    "\n",
    "userRDD = sc.parallelize(user1)\n",
    "subsRDD = sc.parallelize(sub1)\n",
    "\n",
    "mergedRDD = userRDD.rightOuterjoin(subsRDD)\n",
    "#mergedRDD.collect()\n",
    "\n",
    "mergedRDD.map(lambda value: value[1][0] + 'loves' + value[1][1]).collect()"
   ],
   "metadata": {
    "collapsed": false
   }
  },
  {
   "cell_type": "markdown",
   "source": [
    "# Assignment 3"
   ],
   "metadata": {
    "collapsed": false
   }
  },
  {
   "cell_type": "code",
   "execution_count": null,
   "outputs": [],
   "source": [
    "import json\n",
    "\n",
    "def lovePandas(line):\n",
    "    k = 'lovePandas'\n",
    "    if k in line and line[k]:\n",
    "        return True\n",
    "    return False\n",
    "\n",
    "\n",
    "input = sc.textFile(basic_folder+\"../files/pandainfo.json\")\n",
    "json_data = input.map(lambda x: join.loads(x))\n",
    "json_data.collect()\n",
    "pandas_data = json_data.filter(lovePandas).map(lambda x: json.dumps(x))\n",
    "pandas_data.saveAsTextFile(basic_folder+\"../week6/output_pandas\")"
   ],
   "metadata": {
    "collapsed": false
   }
  }
 ],
 "metadata": {
  "kernelspec": {
   "display_name": "Python 3",
   "language": "python",
   "name": "python3"
  },
  "language_info": {
   "codemirror_mode": {
    "name": "ipython",
    "version": 2
   },
   "file_extension": ".py",
   "mimetype": "text/x-python",
   "name": "python",
   "nbconvert_exporter": "python",
   "pygments_lexer": "ipython2",
   "version": "2.7.6"
  }
 },
 "nbformat": 4,
 "nbformat_minor": 0
}
